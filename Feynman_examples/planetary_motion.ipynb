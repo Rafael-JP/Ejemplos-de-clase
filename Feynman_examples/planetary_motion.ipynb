{
  "nbformat": 4,
  "nbformat_minor": 0,
  "metadata": {
    "colab": {
      "provenance": [],
      "include_colab_link": true
    },
    "kernelspec": {
      "name": "python3",
      "display_name": "Python 3"
    },
    "language_info": {
      "name": "python"
    }
  },
  "cells": [
    {
      "cell_type": "markdown",
      "metadata": {
        "id": "view-in-github",
        "colab_type": "text"
      },
      "source": [
        "<a href=\"https://colab.research.google.com/github/Rafael-JP/Ejemplos-de-clase/blob/main/Feynman_examples/planetary_motion.ipynb\" target=\"_parent\"><img src=\"https://colab.research.google.com/assets/colab-badge.svg\" alt=\"Open In Colab\"/></a>"
      ]
    },
    {
      "cell_type": "markdown",
      "source": [
        "# Example section 9.7 Feynman Lectures on Physics\n",
        "Planetary motion (arb. units with GM=1)."
      ],
      "metadata": {
        "id": "lfZith9m1Ak8"
      }
    },
    {
      "cell_type": "code",
      "source": [
        "import numpy as np\n",
        "import matplotlib.pyplot as plt"
      ],
      "metadata": {
        "id": "sMMcxYdO1cPT"
      },
      "execution_count": 1,
      "outputs": []
    },
    {
      "cell_type": "markdown",
      "source": [
        "Initial conditions:"
      ],
      "metadata": {
        "id": "I-9VkA5K1y18"
      }
    },
    {
      "cell_type": "code",
      "source": [
        "x0=0.5\n",
        "y0=0.0\n",
        "vx0=0.0\n",
        "vy0=1.63"
      ],
      "metadata": {
        "id": "Wogdp_WE1yLG"
      },
      "execution_count": 2,
      "outputs": []
    },
    {
      "cell_type": "markdown",
      "source": [
        "We take, as in the book, a time step of 0.1 and the calculation was done for 21 steps."
      ],
      "metadata": {
        "id": "eIPmDXj-2EyQ"
      }
    },
    {
      "cell_type": "code",
      "source": [
        "dt = 0.1\n",
        "ntot=21\n",
        "\n",
        "print('Simulation time will be',dt*ntot)"
      ],
      "metadata": {
        "id": "AYQPqAFk2EFC",
        "outputId": "55ad865c-0476-4bd1-a755-57d926c4827d",
        "colab": {
          "base_uri": "https://localhost:8080/"
        }
      },
      "execution_count": 3,
      "outputs": [
        {
          "output_type": "stream",
          "name": "stdout",
          "text": [
            "Simulation time will be 2.1\n"
          ]
        }
      ]
    },
    {
      "cell_type": "markdown",
      "source": [
        "Create empty arrays for all the results and add the initial conditions at t=0"
      ],
      "metadata": {
        "id": "GksUdjIz28qm"
      }
    },
    {
      "cell_type": "code",
      "source": [
        "# create empty array starting at zero with time, position, velocity\n",
        "x = np.zeros(ntot+1)\n",
        "y = np.zeros(ntot+1)\n",
        "vx = np.zeros(ntot+1)\n",
        "vy = np.zeros(ntot+1)\n",
        "t = np.zeros(ntot+1)\n",
        "\n",
        "#Initial conditions\n",
        "t[0] = 0.0\n",
        "x[0] = x0\n",
        "y[0] = y0\n",
        "vx[0] = vx0\n",
        "vy[0] = vy0\n",
        "\n",
        "#Distance of planet from star and calculation of acceleration\n",
        "r_sun=np.sqrt(x[0]*x[0]+y[0]*y[0])\n",
        "ax = -x[0]/(r_sun**3.0)\n",
        "ay = -y[0]/(r_sun**3.0)\n",
        "\n",
        "print(\"At t=0, r=\",r_sun)"
      ],
      "metadata": {
        "id": "v_rMNiuI26f5",
        "outputId": "3af06dd4-bc5e-486d-ac62-1c340e3cdbb8",
        "colab": {
          "base_uri": "https://localhost:8080/"
        }
      },
      "execution_count": 4,
      "outputs": [
        {
          "output_type": "stream",
          "name": "stdout",
          "text": [
            "At t=0, r= 0.5\n"
          ]
        }
      ]
    },
    {
      "cell_type": "markdown",
      "source": [
        "The first step is special as explained in the book:"
      ],
      "metadata": {
        "id": "ymQ20XKc3BIA"
      }
    },
    {
      "cell_type": "code",
      "source": [
        "#  Calculate new velocity after time dt/2\n",
        "vx_hk = vx[0]+(dt/2.0)*ax\n",
        "vy_hk = vy[0]+(dt/2.0)*ay\n",
        "print(\"Half Step: vx=\",vx_hk,\" vy=\",vy_hk)"
      ],
      "metadata": {
        "id": "QJp7ysUm2rp-",
        "outputId": "63819570-cba8-4341-932f-b2696e9a782b",
        "colab": {
          "base_uri": "https://localhost:8080/"
        }
      },
      "execution_count": 5,
      "outputs": [
        {
          "output_type": "stream",
          "name": "stdout",
          "text": [
            "Half Step: vx= -0.2  vy= 1.63\n"
          ]
        }
      ]
    },
    {
      "cell_type": "code",
      "source": [
        "# New position at step 1 time t+dt\n",
        "i=1\n",
        "x[i] = x[i-1]+dt*vx_hk\n",
        "y[i] = y[i-1]+dt*vy_hk\n",
        "t[i] = t[i-1]+dt\n",
        "r_sun=np.sqrt(x[i]*x[i]+y[i]*y[i])\n",
        "ax = -x[i]/(r_sun**3.0)\n",
        "ay = -y[i]/(r_sun**3.0)\n",
        "print(\"step\",i,\"t=\",t[i],\", x=\",x[i],\"y=\",y[i],\"r=\",r_sun)"
      ],
      "metadata": {
        "id": "jdoVHvd6AztD",
        "outputId": "d9f4a45b-ef89-4bfa-86c3-c6bd9f9ab0b2",
        "colab": {
          "base_uri": "https://localhost:8080/"
        }
      },
      "execution_count": 6,
      "outputs": [
        {
          "output_type": "stream",
          "name": "stdout",
          "text": [
            "step 1 t= 0.1 , x= 0.48 y= 0.163 r= 0.5069210983969793\n"
          ]
        }
      ]
    },
    {
      "cell_type": "markdown",
      "source": [
        "Now we perform an iteration over all subsequent times"
      ],
      "metadata": {
        "id": "yrmkJtyA4YC_"
      }
    },
    {
      "cell_type": "code",
      "source": [
        "while i<ntot:\n",
        "    # Calculate acceleration at present position x(t)\n",
        "    r_sun=np.sqrt(x[i]*x[i]+y[i]*y[i])\n",
        "    ax = -x[i]/(r_sun**3.0)\n",
        "    ay = -y[i]/(r_sun**3.0)\n",
        "\t  #Velocity change from t-dt/2 to t+dt/2\n",
        "    vx_hk = vx_hk+ax*dt\n",
        "    vy_hk = vy_hk+ay*dt\n",
        "    # New position at t+dt\n",
        "    x[i+1] = x[i]+dt*vx_hk\n",
        "    y[i+1] = y[i]+dt*vy_hk\n",
        "    #Update time\n",
        "    t[i+1] = t[i]+dt\n",
        "    #update counter\n",
        "    i=i+1\n",
        "\t  #print current data\n",
        "    print('t= ',round(t[i],3),' x=',round(x[i],3),' y=',round(y[i],3))"
      ],
      "metadata": {
        "id": "NqlabJhH4b6G",
        "outputId": "dfdabb3d-735a-4ddf-a0bd-74017209c343",
        "colab": {
          "base_uri": "https://localhost:8080/"
        }
      },
      "execution_count": 7,
      "outputs": [
        {
          "output_type": "stream",
          "name": "stdout",
          "text": [
            "t=  0.2  x= 0.423  y= 0.313\n",
            "t=  0.3  x= 0.337  y= 0.443\n",
            "t=  0.4  x= 0.232  y= 0.546\n",
            "t=  0.5  x= 0.115  y= 0.623\n",
            "t=  0.6  x= -0.006  y= 0.676\n",
            "t=  0.7  x= -0.127  y= 0.706\n",
            "t=  0.8  x= -0.244  y= 0.718\n",
            "t=  0.9  x= -0.356  y= 0.713\n",
            "t=  1.0  x= -0.461  y= 0.694\n",
            "t=  1.1  x= -0.558  y= 0.664\n",
            "t=  1.2  x= -0.646  y= 0.623\n",
            "t=  1.3  x= -0.725  y= 0.573\n",
            "t=  1.4  x= -0.795  y= 0.516\n",
            "t=  1.5  x= -0.856  y= 0.453\n",
            "t=  1.6  x= -0.908  y= 0.385\n",
            "t=  1.7  x= -0.95  y= 0.313\n",
            "t=  1.8  x= -0.982  y= 0.238\n",
            "t=  1.9  x= -1.005  y= 0.16\n",
            "t=  2.0  x= -1.018  y= 0.081\n",
            "t=  2.1  x= -1.022  y= 0.002\n"
          ]
        }
      ]
    },
    {
      "cell_type": "markdown",
      "source": [
        "Plot the results"
      ],
      "metadata": {
        "id": "6JtpuPr27nmp"
      }
    },
    {
      "cell_type": "code",
      "source": [
        "plt.plot(x,y, 'ro')\n",
        "\n",
        "plt.xlabel('x')\n",
        "plt.ylabel('y')\n",
        "\n",
        "plt.show()"
      ],
      "metadata": {
        "id": "YuvgU9JK7jfu",
        "outputId": "0000438c-97fe-4fdc-8646-09a63de8d9b9",
        "colab": {
          "base_uri": "https://localhost:8080/",
          "height": 449
        }
      },
      "execution_count": 8,
      "outputs": [
        {
          "output_type": "display_data",
          "data": {
            "text/plain": [
              "<Figure size 640x480 with 1 Axes>"
            ],
            "image/png": "[encoded data removed]"
          },
          "metadata": {}
        }
      ]
    },
    {
      "cell_type": "code",
      "source": [],
      "metadata": {
        "id": "bnistUGq7maG"
      },
      "execution_count": null,
      "outputs": []
    }
  ]
}